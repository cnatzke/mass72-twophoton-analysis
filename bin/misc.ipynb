{
 "cells": [
  {
   "cell_type": "code",
   "execution_count": 2,
   "metadata": {},
   "outputs": [],
   "source": [
    "import numpy as np"
   ]
  },
  {
   "cell_type": "code",
   "execution_count": 3,
   "metadata": {},
   "outputs": [],
   "source": [
    "hits = [1,2,3]\n",
    "\n",
    "mulitplicity = len(hits)\n",
    "for i in np.arange(0, len(hits), 1):\n",
    "    for j in np.arange(i + 1, len(hits), 1):\n",
    "        for k in np.arange(0, len(hits), 1):\n",
    "            if (k != i and k != j):\n",
    "                for l in np.arange(k + 1, len(hits), 1):\n",
    "                    if (l != i and l != j):\n",
    "                        print(f\"twoPhoton: {i}, {j} | Gates {k}, {l}\")\n",
    "\n"
   ]
  },
  {
   "cell_type": "code",
   "execution_count": 4,
   "metadata": {},
   "outputs": [
    {
     "name": "stdout",
     "output_type": "stream",
     "text": [
      "twoPhoton: 0, 1 | Gates 2\n",
      "twoPhoton: 0, 2 | Gates 1\n",
      "twoPhoton: 1, 2 | Gates 0\n"
     ]
    }
   ],
   "source": [
    "hits = [1,2,3]\n",
    "\n",
    "mulitplicity = len(hits)\n",
    "for i in np.arange(0, len(hits), 1):\n",
    "    for j in np.arange(i + 1, len(hits), 1):\n",
    "        for k in np.arange(0, len(hits), 1):\n",
    "            if (k != i and k != j):\n",
    "                print(f\"twoPhoton: {hits[i]}, {hits[j]} | Gates {hits[k]}\")"
   ]
  },
  {
   "cell_type": "code",
   "execution_count": null,
   "metadata": {},
   "outputs": [],
   "source": []
  }
 ],
 "metadata": {
  "kernelspec": {
   "display_name": "base",
   "language": "python",
   "name": "python3"
  },
  "language_info": {
   "codemirror_mode": {
    "name": "ipython",
    "version": 3
   },
   "file_extension": ".py",
   "mimetype": "text/x-python",
   "name": "python",
   "nbconvert_exporter": "python",
   "pygments_lexer": "ipython3",
   "version": "3.11.5"
  }
 },
 "nbformat": 4,
 "nbformat_minor": 2
}
